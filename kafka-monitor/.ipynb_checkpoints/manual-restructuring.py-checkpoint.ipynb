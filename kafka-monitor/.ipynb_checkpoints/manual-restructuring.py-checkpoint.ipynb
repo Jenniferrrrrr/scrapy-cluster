{
 "cells": [
  {
   "cell_type": "code",
   "execution_count": null,
   "metadata": {},
   "outputs": [],
   "source": [
    "import pandas as pd, numpy as np, json, urllib"
   ]
  },
  {
   "cell_type": "code",
   "execution_count": null,
   "metadata": {},
   "outputs": [],
   "source": [
    "# Reading in charter_URLs_2016.csv, which apparently worked before\n",
    "original_file = pd.read_csv(\"charter_URLs_2016.csv\", low_memory = False)"
   ]
  },
  {
   "cell_type": "code",
   "execution_count": null,
   "metadata": {},
   "outputs": [],
   "source": [
    "# Dropping the original URLs\n",
    "column_to_overwrite = [\"URL\"]\n",
    "#original_file.drop(labels=column_to_overwrite, axis=\"columns\", inplace=True)"
   ]
  },
  {
   "cell_type": "code",
   "execution_count": null,
   "metadata": {},
   "outputs": [],
   "source": [
    "# This stuff is all just a slightly refactored, copy-pasted function from my other script in work/web-scraping/scripts/wayback-functions.\n",
    "def URL_PROCESS(csvlocation, timestamp = \"\"):\n",
    "    BASE_ENDPOINT = 'http://archive.org/wayback/available?url='\n",
    "    TIMESTAMP_ARG = '&timestamp='\n",
    "    result = []\n",
    "    urls = pd.read_csv(csvlocation, low_memory = False, usecols=[\"URL\"]) \n",
    "    urls = urls[\"URL\"].tolist()\n",
    "    print(urls)\n",
    "    for url in urls:\n",
    "        if timestamp:\n",
    "            endpoint = BASE_ENDPOINT + url + TIMESTAMP_ARG + timestamp\n",
    "        else:\n",
    "            endpoint = BASE_ENDPOINT + url\n",
    "        \n",
    "        response = json.load(urllib.request.urlopen(endpoint))\n",
    "        found = len(response['archived_snapshots']) > 0\n",
    "        \n",
    "        if found:\n",
    "            result.append(response['archived_snapshots']['closest']['url']) \n",
    "            \n",
    "        if not found:\n",
    "            result.append(0)\n",
    "            \n",
    "    return result"
   ]
  },
  {
   "cell_type": "code",
   "execution_count": null,
   "metadata": {},
   "outputs": [],
   "source": [
    "new_column = URL_PROCESS(\"charter_URLs_2016.csv\")"
   ]
  },
  {
   "cell_type": "code",
   "execution_count": null,
   "metadata": {},
   "outputs": [],
   "source": [
    "print(new_column)"
   ]
  },
  {
   "cell_type": "code",
   "execution_count": null,
   "metadata": {},
   "outputs": [],
   "source": []
  }
 ],
 "metadata": {
  "kernelspec": {
   "display_name": "Python 3",
   "language": "python",
   "name": "python3"
  },
  "language_info": {
   "codemirror_mode": {
    "name": "ipython",
    "version": 3
   },
   "file_extension": ".py",
   "mimetype": "text/x-python",
   "name": "python",
   "nbconvert_exporter": "python",
   "pygments_lexer": "ipython3",
   "version": "3.6.3"
  }
 },
 "nbformat": 4,
 "nbformat_minor": 2
}
