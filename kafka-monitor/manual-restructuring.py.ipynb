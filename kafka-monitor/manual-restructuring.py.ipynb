{
 "cells": [
  {
   "cell_type": "code",
   "execution_count": 6,
   "metadata": {},
   "outputs": [],
   "source": [
    "import pandas as pd, numpy as np, json, urllib"
   ]
  },
  {
   "cell_type": "code",
   "execution_count": 11,
   "metadata": {},
   "outputs": [],
   "source": [
    "# *************** Copy pasted *********************************\n",
    "def CSV_PROCESS(csvlocation):\n",
    "    URL_LIST = df_URLs = pd.read_csv(csvlocation, low_memory = False, usecols=[\"NCESSCH\", \"URL\"]) \n",
    "    URL_LIST = URL_LIST['URL'].tolist()\n",
    "    return URL_LIST\n",
    "\n",
    "def URL_PROCESS(urls, timestamp = \"\"):\n",
    "    BASE_ENDPOINT = 'http://archive.org/wayback/available?url='\n",
    "    TIMESTAMP_ARG = '&timestamp='\n",
    "    result = []\n",
    "    for url in urls:\n",
    "        if url:\n",
    "            if timestamp:\n",
    "                endpoint = BASE_ENDPOINT + url + TIMESTAMP_ARG + timestamp\n",
    "            else:\n",
    "                endpoint = str(BASE_ENDPOINT + url)\n",
    "        \n",
    "                response = json.load(urllib.request.urlopen(endpoint))\n",
    "                found = len(response['archived_snapshots']) > 0\n",
    "        \n",
    "            if found:\n",
    "                result.append(response['archived_snapshots']['closest']['url']) \n",
    "            \n",
    "            if not found:\n",
    "                result.append(0)\n",
    "        else:\n",
    "            result.append(0)\n",
    "            \n",
    "    return result"
   ]
  },
  {
   "cell_type": "code",
   "execution_count": 12,
   "metadata": {},
   "outputs": [],
   "source": [
    "# Turning CSV into a list of URLs\n",
    "urls = CSV_PROCESS('../../scrapy-cluster/kafka-monitor/charter_URLs_2016.csv')"
   ]
  },
  {
   "cell_type": "code",
   "execution_count": 13,
   "metadata": {},
   "outputs": [
    {
     "ename": "TypeError",
     "evalue": "must be str, not float",
     "output_type": "error",
     "traceback": [
      "\u001b[0;31m---------------------------------------------------------------------------\u001b[0m",
      "\u001b[0;31mTypeError\u001b[0m                                 Traceback (most recent call last)",
      "\u001b[0;32m<ipython-input-13-4ff961cbbe0a>\u001b[0m in \u001b[0;36m<module>\u001b[0;34m()\u001b[0m\n\u001b[1;32m      1\u001b[0m \u001b[0;31m# Constructing a list of Wayback-formatted URLs\u001b[0m\u001b[0;34m\u001b[0m\u001b[0;34m\u001b[0m\u001b[0m\n\u001b[0;32m----> 2\u001b[0;31m \u001b[0murls\u001b[0m \u001b[0;34m=\u001b[0m \u001b[0mURL_PROCESS\u001b[0m\u001b[0;34m(\u001b[0m\u001b[0murls\u001b[0m\u001b[0;34m)\u001b[0m\u001b[0;34m\u001b[0m\u001b[0m\n\u001b[0m",
      "\u001b[0;32m<ipython-input-11-ace530ea6c4f>\u001b[0m in \u001b[0;36mURL_PROCESS\u001b[0;34m(urls, timestamp)\u001b[0m\n\u001b[1;32m     14\u001b[0m                 \u001b[0mendpoint\u001b[0m \u001b[0;34m=\u001b[0m \u001b[0mBASE_ENDPOINT\u001b[0m \u001b[0;34m+\u001b[0m \u001b[0murl\u001b[0m \u001b[0;34m+\u001b[0m \u001b[0mTIMESTAMP_ARG\u001b[0m \u001b[0;34m+\u001b[0m \u001b[0mtimestamp\u001b[0m\u001b[0;34m\u001b[0m\u001b[0m\n\u001b[1;32m     15\u001b[0m             \u001b[0;32melse\u001b[0m\u001b[0;34m:\u001b[0m\u001b[0;34m\u001b[0m\u001b[0m\n\u001b[0;32m---> 16\u001b[0;31m                 \u001b[0mendpoint\u001b[0m \u001b[0;34m=\u001b[0m \u001b[0mstr\u001b[0m\u001b[0;34m(\u001b[0m\u001b[0mBASE_ENDPOINT\u001b[0m \u001b[0;34m+\u001b[0m \u001b[0murl\u001b[0m\u001b[0;34m)\u001b[0m\u001b[0;34m\u001b[0m\u001b[0m\n\u001b[0m\u001b[1;32m     17\u001b[0m \u001b[0;34m\u001b[0m\u001b[0m\n\u001b[1;32m     18\u001b[0m                 \u001b[0mresponse\u001b[0m \u001b[0;34m=\u001b[0m \u001b[0mjson\u001b[0m\u001b[0;34m.\u001b[0m\u001b[0mload\u001b[0m\u001b[0;34m(\u001b[0m\u001b[0murllib\u001b[0m\u001b[0;34m.\u001b[0m\u001b[0mrequest\u001b[0m\u001b[0;34m.\u001b[0m\u001b[0murlopen\u001b[0m\u001b[0;34m(\u001b[0m\u001b[0mendpoint\u001b[0m\u001b[0;34m)\u001b[0m\u001b[0;34m)\u001b[0m\u001b[0;34m\u001b[0m\u001b[0m\n",
      "\u001b[0;31mTypeError\u001b[0m: must be str, not float"
     ]
    }
   ],
   "source": [
    "# Constructing a list of Wayback-formatted URLs\n",
    "urls = URL_PROCESS(urls)"
   ]
  },
  {
   "cell_type": "code",
   "execution_count": null,
   "metadata": {},
   "outputs": [],
   "source": [
    "# Making a copy of the 2016 URLs so we don't mess with the original\n",
    "old_df = pd.read_csv(\"charter_URLs_2016.csv\")\n",
    "\n",
    "# Inserting the new URL column of constructed URLS\n",
    "old_df['URL'] = urls\n",
    "\n",
    "# Converting this modified DataFrame to a CSV\n",
    "export_csv = old_df.to_csv(r'charter_URLs_2016_wayback.csv', index = None, header=True)"
   ]
  },
  {
   "cell_type": "code",
   "execution_count": null,
   "metadata": {},
   "outputs": [],
   "source": []
  }
 ],
 "metadata": {
  "kernelspec": {
   "display_name": "Python 3",
   "language": "python",
   "name": "python3"
  },
  "language_info": {
   "codemirror_mode": {
    "name": "ipython",
    "version": 3
   },
   "file_extension": ".py",
   "mimetype": "text/x-python",
   "name": "python",
   "nbconvert_exporter": "python",
   "pygments_lexer": "ipython3",
   "version": "3.6.3"
  }
 },
 "nbformat": 4,
 "nbformat_minor": 2
}
