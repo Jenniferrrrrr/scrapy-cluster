{
 "cells": [
  {
   "cell_type": "code",
   "execution_count": null,
   "metadata": {},
   "outputs": [],
   "source": [
    "import pandas as pd, numpy as np, json, urllib"
   ]
  },
  {
   "cell_type": "code",
   "execution_count": 17,
   "metadata": {},
   "outputs": [],
   "source": [
    "# *************** Copy pasted *********************************\n",
    "def CSV_PROCESS(csvlocation):\n",
    "    URL_LIST = df_URLs = pd.read_csv(csvlocation, low_memory = False, usecols=[\"NCESSCH\", \"URL\"]) \n",
    "    URL_LIST = URL_LIST['URL'].tolist()\n",
    "    return URL_LIST\n",
    "\n",
    "def URL_PROCESS(urls, timestamp = \"\"):\n",
    "    BASE_ENDPOINT = 'http://archive.org/wayback/available?url='\n",
    "    TIMESTAMP_ARG = '&timestamp='\n",
    "    result = []\n",
    "    for url in urls:\n",
    "        if timestamp:\n",
    "            endpoint = BASE_ENDPOINT + url + TIMESTAMP_ARG + timestamp\n",
    "        else:\n",
    "            endpoint = BASE_ENDPOINT + url\n",
    "        \n",
    "        response = json.load(urllib.request.urlopen(endpoint))\n",
    "        found = len(response['archived_snapshots']) > 0\n",
    "        \n",
    "        if found:\n",
    "            result.append(response['archived_snapshots']['closest']['url']) \n",
    "            \n",
    "        if not found:\n",
    "            result.append(0)\n",
    "            \n",
    "    return result"
   ]
  },
  {
   "cell_type": "code",
   "execution_count": 19,
   "metadata": {},
   "outputs": [],
   "source": [
    "# Turning CSV into a list of URLs\n",
    "urls = CSV_PROCESS('../../scrapy-cluster/kafka-monitor/charter_URLs_2016.csv')"
   ]
  },
  {
   "cell_type": "code",
   "execution_count": null,
   "metadata": {},
   "outputs": [],
   "source": [
    "# Constructing a list of Wayback-formatted URLs\n",
    "urls = URL_PROCESS(urls)"
   ]
  },
  {
   "cell_type": "code",
   "execution_count": null,
   "metadata": {},
   "outputs": [],
   "source": [
    "# Making a copy of the 2016 URLs so we don't mess with the original\n",
    "old_df = pd.read_csv(\"charter_URLs_2016.csv\")\n",
    "\n",
    "# Inserting the new URL column of constructed URLS\n",
    "old_df['URL'] = urls\n",
    "\n",
    "# Converting this modified DataFrame to a CSV\n"
   ]
  }
 ],
 "metadata": {
  "kernelspec": {
   "display_name": "Python 3",
   "language": "python",
   "name": "python3"
  },
  "language_info": {
   "codemirror_mode": {
    "name": "ipython",
    "version": 3
   },
   "file_extension": ".py",
   "mimetype": "text/x-python",
   "name": "python",
   "nbconvert_exporter": "python",
   "pygments_lexer": "ipython3",
   "version": "3.6.3"
  }
 },
 "nbformat": 4,
 "nbformat_minor": 2
}
